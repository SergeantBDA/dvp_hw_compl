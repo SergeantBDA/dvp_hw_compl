{
 "cells": [
  {
   "cell_type": "markdown",
   "metadata": {},
   "source": [
    "##### Домашнее задание \"Проблема качества данных\"  \n",
    "**Преподаватель:** Алексей Миронов, Наталья Баданина, Дарья Максимова  \n",
    "    \n",
    "Необходимо запустить практическую часть занятия, и посмотреть самому то, о чём говорили на лекции.  \n",
    "По образу практики, попробуйте создать искусственный датасет с лишними столбцами. \n",
    "Целевую метку, при правильной обработке данных, формируйте таким образом, чтобы без затруднений её смогла описать линейная модель. \n",
    "Ориентируйтесь на то, что было показано во время занятия, и каждый шаг описывайте в markdown. \n",
    "Здесь важно видеть ваш ход мысли. Не бойтесь ошибиться или написать не то. \n",
    "Данное задание не имеет какого-то “правильного” решения. \n",
    "Цель - достичь базового понимания проблемы. \n",
    "Чем больше вы фантазируете, тем лучше :) \n",
    "Тем не менее, старайтесь представить те ситуации, которые по-вашему мнению могли бы быть в реальных данных. **Успеха!**"
   ]
  },
  {
   "cell_type": "code",
   "execution_count": 1,
   "metadata": {},
   "outputs": [],
   "source": [
    "# Загружаем библиотеки\n",
    "\n",
    "import numpy as np\n",
    "import pandas as pd\n",
    "import seaborn as sns\n",
    "\n",
    "from sklearn.linear_model import LinearRegression"
   ]
  },
  {
   "cell_type": "code",
   "execution_count": null,
   "metadata": {},
   "outputs": [],
   "source": [
    "n_samples = 1000\n",
    "\n"
   ]
  }
 ],
 "metadata": {
  "kernelspec": {
   "display_name": "Python 3",
   "language": "python",
   "name": "python3"
  },
  "language_info": {
   "codemirror_mode": {
    "name": "ipython",
    "version": 3
   },
   "file_extension": ".py",
   "mimetype": "text/x-python",
   "name": "python",
   "nbconvert_exporter": "python",
   "pygments_lexer": "ipython3",
   "version": "3.8.3"
  }
 },
 "nbformat": 4,
 "nbformat_minor": 4
}
