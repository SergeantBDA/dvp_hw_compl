{
 "cells": [
  {
   "cell_type": "markdown",
   "metadata": {},
   "source": [
    "# Домашняя работа\n",
    "\n",
    "1. Теперь решаем задачу регрессии - предскажем цены на недвижимость. Использовать датасет https://www.kaggle.com/c/house-prices-advanced-regression-techniques/data (train.csv)\n",
    "- Данных немного, поэтому необходимо использовать 10-fold кросс-валидацию для оценки качества моделей\n",
    "- Построить случайный лес, вывести важность признаков\n",
    "- Обучить стекинг как минимум 3х моделей, использовать хотя бы 1 линейную модель и 1 нелинейную\n",
    "- Для валидации модели 2-го уровня использовать отдельный hold-out датасет, как на занятии\n",
    "- Показать, что использование ансамблей моделей действительно улучшает качество (стекинг vs другие модели сравнивать на hold-out)\n",
    "- В качестве решения: Jupyter notebook с кодом, комментариями и графиками"
   ]
  },
  {
   "cell_type": "code",
   "execution_count": 1,
   "metadata": {},
   "outputs": [],
   "source": [
    "import pandas as pd\n",
    "from sklearn.model_selection import train_test_split\n",
    "from sklearn.ensemble import RandomForestRegressor\n",
    "from sklearn.preprocessing import StandardScaler\n",
    "from sklearn.model_selection import KFold\n",
    "\n",
    "from sklearn.ensemble import StackingRegressor #Стекинг\n",
    "from sklearn.linear_model import RidgeCV #Линейная модель\n",
    "from sklearn.neighbors import KNeighborsRegressor #К-ближайших соседей\n",
    "from sklearn.tree import DecisionTreeRegressor #Дерево решений"
   ]
  },
  {
   "cell_type": "code",
   "execution_count": 2,
   "metadata": {},
   "outputs": [],
   "source": [
    "df = pd.read_csv('data/train.csv') #тренировочные даные"
   ]
  },
  {
   "cell_type": "code",
   "execution_count": 3,
   "metadata": {
    "scrolled": true
   },
   "outputs": [
    {
     "name": "stdout",
     "output_type": "stream",
     "text": [
      "<class 'pandas.core.frame.DataFrame'>\n",
      "RangeIndex: 1460 entries, 0 to 1459\n",
      "Data columns (total 81 columns):\n",
      " #   Column         Non-Null Count  Dtype  \n",
      "---  ------         --------------  -----  \n",
      " 0   Id             1460 non-null   int64  \n",
      " 1   MSSubClass     1460 non-null   int64  \n",
      " 2   MSZoning       1460 non-null   object \n",
      " 3   LotFrontage    1201 non-null   float64\n",
      " 4   LotArea        1460 non-null   int64  \n",
      " 5   Street         1460 non-null   object \n",
      " 6   Alley          91 non-null     object \n",
      " 7   LotShape       1460 non-null   object \n",
      " 8   LandContour    1460 non-null   object \n",
      " 9   Utilities      1460 non-null   object \n",
      " 10  LotConfig      1460 non-null   object \n",
      " 11  LandSlope      1460 non-null   object \n",
      " 12  Neighborhood   1460 non-null   object \n",
      " 13  Condition1     1460 non-null   object \n",
      " 14  Condition2     1460 non-null   object \n",
      " 15  BldgType       1460 non-null   object \n",
      " 16  HouseStyle     1460 non-null   object \n",
      " 17  OverallQual    1460 non-null   int64  \n",
      " 18  OverallCond    1460 non-null   int64  \n",
      " 19  YearBuilt      1460 non-null   int64  \n",
      " 20  YearRemodAdd   1460 non-null   int64  \n",
      " 21  RoofStyle      1460 non-null   object \n",
      " 22  RoofMatl       1460 non-null   object \n",
      " 23  Exterior1st    1460 non-null   object \n",
      " 24  Exterior2nd    1460 non-null   object \n",
      " 25  MasVnrType     1452 non-null   object \n",
      " 26  MasVnrArea     1452 non-null   float64\n",
      " 27  ExterQual      1460 non-null   object \n",
      " 28  ExterCond      1460 non-null   object \n",
      " 29  Foundation     1460 non-null   object \n",
      " 30  BsmtQual       1423 non-null   object \n",
      " 31  BsmtCond       1423 non-null   object \n",
      " 32  BsmtExposure   1422 non-null   object \n",
      " 33  BsmtFinType1   1423 non-null   object \n",
      " 34  BsmtFinSF1     1460 non-null   int64  \n",
      " 35  BsmtFinType2   1422 non-null   object \n",
      " 36  BsmtFinSF2     1460 non-null   int64  \n",
      " 37  BsmtUnfSF      1460 non-null   int64  \n",
      " 38  TotalBsmtSF    1460 non-null   int64  \n",
      " 39  Heating        1460 non-null   object \n",
      " 40  HeatingQC      1460 non-null   object \n",
      " 41  CentralAir     1460 non-null   object \n",
      " 42  Electrical     1459 non-null   object \n",
      " 43  1stFlrSF       1460 non-null   int64  \n",
      " 44  2ndFlrSF       1460 non-null   int64  \n",
      " 45  LowQualFinSF   1460 non-null   int64  \n",
      " 46  GrLivArea      1460 non-null   int64  \n",
      " 47  BsmtFullBath   1460 non-null   int64  \n",
      " 48  BsmtHalfBath   1460 non-null   int64  \n",
      " 49  FullBath       1460 non-null   int64  \n",
      " 50  HalfBath       1460 non-null   int64  \n",
      " 51  BedroomAbvGr   1460 non-null   int64  \n",
      " 52  KitchenAbvGr   1460 non-null   int64  \n",
      " 53  KitchenQual    1460 non-null   object \n",
      " 54  TotRmsAbvGrd   1460 non-null   int64  \n",
      " 55  Functional     1460 non-null   object \n",
      " 56  Fireplaces     1460 non-null   int64  \n",
      " 57  FireplaceQu    770 non-null    object \n",
      " 58  GarageType     1379 non-null   object \n",
      " 59  GarageYrBlt    1379 non-null   float64\n",
      " 60  GarageFinish   1379 non-null   object \n",
      " 61  GarageCars     1460 non-null   int64  \n",
      " 62  GarageArea     1460 non-null   int64  \n",
      " 63  GarageQual     1379 non-null   object \n",
      " 64  GarageCond     1379 non-null   object \n",
      " 65  PavedDrive     1460 non-null   object \n",
      " 66  WoodDeckSF     1460 non-null   int64  \n",
      " 67  OpenPorchSF    1460 non-null   int64  \n",
      " 68  EnclosedPorch  1460 non-null   int64  \n",
      " 69  3SsnPorch      1460 non-null   int64  \n",
      " 70  ScreenPorch    1460 non-null   int64  \n",
      " 71  PoolArea       1460 non-null   int64  \n",
      " 72  PoolQC         7 non-null      object \n",
      " 73  Fence          281 non-null    object \n",
      " 74  MiscFeature    54 non-null     object \n",
      " 75  MiscVal        1460 non-null   int64  \n",
      " 76  MoSold         1460 non-null   int64  \n",
      " 77  YrSold         1460 non-null   int64  \n",
      " 78  SaleType       1460 non-null   object \n",
      " 79  SaleCondition  1460 non-null   object \n",
      " 80  SalePrice      1460 non-null   int64  \n",
      "dtypes: float64(3), int64(35), object(43)\n",
      "memory usage: 924.0+ KB\n"
     ]
    }
   ],
   "source": [
    "df.info()"
   ]
  },
  {
   "cell_type": "code",
   "execution_count": 4,
   "metadata": {},
   "outputs": [],
   "source": [
    "#Класс для очистики датафрейм \n",
    "#Категориальные данные преобразуем по O H E (унимодальное кодирование)\n",
    "#Пропуски заменяем округленным до целого средним\n",
    "\n",
    "class cls2task_prepdre_df:\n",
    "    \n",
    "    ret_df = pd.DataFrame()\n",
    "    \n",
    "    def __init__(self, df_):\n",
    "        self.df      = df_\n",
    "        #list(df.dtypes[df.dtypes == object].index)\n",
    "        self.df_num = df_.select_dtypes(exclude=['object']).copy()\n",
    "        self.df_obj = df_.select_dtypes(include=['object']).copy()\n",
    "    \n",
    "    def ohe(self):\n",
    "        ret = pd.DataFrame()\n",
    "        for col in self.df_obj.columns:\n",
    "            _ = pd.get_dummies(self.df_obj[col], prefix=col, drop_first=False)\n",
    "            ret =  pd.concat([ret, _], axis=1)\n",
    "        return ret\n",
    "    \n",
    "    def set_mean(self):\n",
    "        for col in self.ret_df.columns:\n",
    "            if self.ret_df[col].isna().sum() > 0:\n",
    "                _ = self.ret_df[[col]].mean().round(0)\n",
    "                self.ret_df.loc[ self.ret_df[ self.ret_df[col].isna()].index, col] = _[0]                \n",
    "        return 0\n",
    "    \n",
    "    def main(self):\n",
    "        self.ret_df = pd.concat([self.df_num, self.ohe()], axis=1)\n",
    "        self.set_mean()\n",
    "        return self.ret_df"
   ]
  },
  {
   "cell_type": "code",
   "execution_count": 5,
   "metadata": {},
   "outputs": [],
   "source": [
    "#Обрабатываем основной датафрейм\n",
    "transform_df = cls2task_prepdre_df(df.iloc[:,1:-1]) #из обработки иключаем 1 (Id) и послденее поле (SalePrice)\n",
    "transform_df.main()\n",
    "\n",
    "#Признаковое пространство\n",
    "X = transform_df.ret_df\n",
    "#Target-значение (цена)\n",
    "y = df.iloc[:,-1].round(0)\n",
    "#Делим выборку на тренировочную и тестовую (в отбор включаем все значимые призанки по условию значимости  > 0.00001%)\n",
    "X_train, X_test, y_train, y_test = train_test_split(X, y, test_size=0.3)\n",
    "#Создаем и обучаем модель\n",
    "mdl_rf = RandomForestRegressor(n_estimators=100, \n",
    "                                 max_depth=20, \n",
    "                                 min_samples_leaf=20, \n",
    "                                 max_features=0.5, \n",
    "                                 n_jobs=-1)\n",
    "evaluat = {1: ['Случайный лес:', 0], \n",
    "           2: ['Ансамбль(rdg,dt,kn):', 0],\n",
    "           3: ['К-соседей:', 0]}\n",
    "N = 10\n",
    "score_on_train = 0\n",
    "#Обучаем модель с использованием кроссвалидации\n",
    "for trn_idx,tst_idx in KFold(n_splits=N, random_state=42, shuffle=True).split(X_train, y_train):\n",
    "    X_train_fold,y_train_fold = X.iloc[trn_idx],y.iloc[trn_idx]\n",
    "    X_test_fold,y_test_fold = X.iloc[tst_idx],y.iloc[tst_idx]\n",
    "    mdl_rf.fit(X_train_fold,y_train_fold)\n",
    "    score_on_train += mdl_rf.score(X_test_fold,y_test_fold)\n",
    "#Сохранение оценки\n",
    "evaluat[1][1] = score_on_train/N\n"
   ]
  },
  {
   "cell_type": "code",
   "execution_count": 6,
   "metadata": {
    "scrolled": true
   },
   "outputs": [
    {
     "name": "stdout",
     "output_type": "stream",
     "text": [
      "    index             Attribute  Importances\n",
      "0       3           OverallQual    41.170869\n",
      "1      15             GrLivArea    13.679090\n",
      "2      25            GarageCars    11.505387\n",
      "3       5             YearBuilt     6.108430\n",
      "4      11           TotalBsmtSF     4.870345\n",
      "5      12              1stFlrSF     3.848873\n",
      "6     170          ExterQual_TA     3.070072\n",
      "7      26            GarageArea     3.003042\n",
      "8       8            BsmtFinSF1     1.871734\n",
      "9      18              FullBath     1.483251\n",
      "10    182           BsmtQual_Ex     1.477849\n",
      "11      2               LotArea     0.944935\n",
      "12     13              2ndFlrSF     0.887449\n",
      "13      6          YearRemodAdd     0.773180\n",
      "14    224        KitchenQual_Ex     0.660648\n",
      "15     24           GarageYrBlt     0.627355\n",
      "16     23            Fireplaces     0.543414\n",
      "17      1           LotFrontage     0.309041\n",
      "18    241     GarageType_Attchd     0.289623\n",
      "19    226        KitchenQual_Gd     0.246315\n",
      "20    167          ExterQual_Ex     0.237218\n",
      "21    169          ExterQual_Gd     0.184751\n",
      "22    196      BsmtFinType1_GLQ     0.177109\n",
      "23     79  Neighborhood_NridgHt     0.173729\n",
      "24     28           OpenPorchSF     0.163733\n",
      "25    218          CentralAir_Y     0.161019\n",
      "26      7            MasVnrArea     0.128838\n",
      "27    227        KitchenQual_TA     0.120463\n",
      "28     27            WoodDeckSF     0.111041\n",
      "29     39           MSZoning_RL     0.102955\n",
      "30     22          TotRmsAbvGrd     0.102660\n",
      "31    184           BsmtQual_Gd     0.082584\n",
      "32     10             BsmtUnfSF     0.079942\n",
      "33    217          CentralAir_N     0.077924\n",
      "34     48          LotShape_Reg     0.075855\n",
      "35      4           OverallCond     0.069176\n",
      "36    248      GarageFinish_Unf     0.063019\n",
      "37     20          BedroomAbvGr     0.059949\n",
      "38      0            MSSubClass     0.054961\n",
      "39     16          BsmtFullBath     0.048807\n",
      "40    245     GarageType_Detchd     0.047347\n",
      "41     19              HalfBath     0.037727\n",
      "42    246      GarageFinish_Fin     0.031107\n",
      "43    165       MasVnrType_None     0.030010\n",
      "44    199      BsmtFinType1_Unf     0.027379\n",
      "45    112     HouseStyle_1Story     0.026300\n",
      "46    253         GarageQual_TA     0.023015\n",
      "47    247      GarageFinish_RFn     0.021848\n",
      "48    259          PavedDrive_N     0.015925\n",
      "49    178      Foundation_PConc     0.012083\n",
      "50    185           BsmtQual_TA     0.010027\n",
      "51     45          LotShape_IR1     0.009103\n",
      "52    212          HeatingQC_Ex     0.008146\n",
      "53    160   Exterior2nd_VinylSd     0.008042\n",
      "54     21          KitchenAbvGr     0.007079\n",
      "55    164    MasVnrType_BrkFace     0.006849\n",
      "56      9            BsmtFinSF2     0.006164\n",
      "57    193       BsmtExposure_No     0.005029\n",
      "58     35                YrSold     0.004627\n",
      "59    177     Foundation_CBlock     0.003242\n",
      "60    258         GarageCond_TA     0.003061\n",
      "61     40           MSZoning_RM     0.002630\n",
      "62    216          HeatingQC_TA     0.002214\n",
      "63    105         BldgType_1Fam     0.002054\n",
      "64     29         EnclosedPorch     0.001054\n",
      "65    239        FireplaceQu_TA     0.000654\n",
      "66     75    Neighborhood_NAmes     0.000587\n",
      "67     34                MoSold     0.000058\n"
     ]
    }
   ],
   "source": [
    "#Важность признака (%)\n",
    "ia_df = pd.DataFrame( {'Attribute':X.columns, \\\n",
    "                       'Importances':100*mdl_rf.feature_importances_} ).\\\n",
    "           sort_values(by = 'Importances', ascending = False).reset_index()\n",
    "\n",
    "with pd.option_context('display.max_rows', None, 'display.max_columns', None):  # Вывод всех записей датафрейма  \n",
    "    print( ia_df[ia_df['Importances'] > 0.00001] )"
   ]
  },
  {
   "cell_type": "code",
   "execution_count": 7,
   "metadata": {},
   "outputs": [],
   "source": [
    "#Ансамбль моделей\n",
    "mdl_regressor = StackingRegressor(\n",
    "    [\n",
    "        ('rdg', RidgeCV()),\n",
    "        ('dt',  DecisionTreeRegressor()),\n",
    "        ('kn',  KNeighborsRegressor()),\n",
    "    ],\n",
    "RidgeCV())\n",
    "\n",
    "#Обучение ансабля\n",
    "mdl_regressor.fit(X_train, y_train)\n",
    "#Сохранение оценки\n",
    "evaluat[2][1] = mdl_regressor.score(X_test, y_test)"
   ]
  },
  {
   "cell_type": "code",
   "execution_count": 8,
   "metadata": {},
   "outputs": [],
   "source": [
    "mdl_KN = KNeighborsRegressor()\n",
    "mdl_KN.fit(X_train, y_train)\n",
    "evaluat[3][1] = mdl_KN.score(X_test, y_test)"
   ]
  },
  {
   "cell_type": "code",
   "execution_count": 9,
   "metadata": {},
   "outputs": [
    {
     "name": "stdout",
     "output_type": "stream",
     "text": [
      "Использование ансамблей моделей действительно улучшает качество:\n"
     ]
    },
    {
     "data": {
      "text/plain": [
       "{1: ['Случайный лес:', 0.8222111747591334],\n",
       " 2: ['Ансамбль(rdg,dt,kn):', 0.8738997796732231],\n",
       " 3: ['К-соседей:', 0.6630767180646825]}"
      ]
     },
     "execution_count": 9,
     "metadata": {},
     "output_type": "execute_result"
    }
   ],
   "source": [
    "print('Использование ансамблей моделей действительно улучшает качество:')\n",
    "evaluat"
   ]
  }
 ],
 "metadata": {
  "kernelspec": {
   "display_name": "Python 3",
   "language": "python",
   "name": "python3"
  },
  "language_info": {
   "codemirror_mode": {
    "name": "ipython",
    "version": 3
   },
   "file_extension": ".py",
   "mimetype": "text/x-python",
   "name": "python",
   "nbconvert_exporter": "python",
   "pygments_lexer": "ipython3",
   "version": "3.8.3"
  }
 },
 "nbformat": 4,
 "nbformat_minor": 4
}
