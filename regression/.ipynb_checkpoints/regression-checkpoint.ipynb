{
 "cells": [
  {
   "cell_type": "markdown",
   "metadata": {},
   "source": [
    "##### Домашняя работа по занятию \"Классификация: Логистическая регрессия и SVM\"  \n",
    "\n",
    "**Преподаватель**: Алексей Миронов, Наталья Баданина, Дарья Максимова\n",
    "    \n",
    "Имеются данные adult.csv (см. в материалах к занятию).  \n",
    "Целевой переменной является уровень дохода income (крайний правый столбец).  \n",
    "Описание признаков можно найти по [ссылке](http://www.cs.toronto.edu/~delve/data/adult/adultDetail.html)  \n",
    "Вам необходимо построить модели логистической регрессии и SVM, которые предсказывает уровень дохода человека.\n",
    "Вывести качество полученных моделей на тестовой выборке, используя функцию score у модели.\n",
    "Готовый ноутбук выложить на гитхаб и прислать ссылку."
   ]
  },
  {
   "cell_type": "markdown",
   "metadata": {},
   "source": [
    "##### Решение"
   ]
  },
  {
   "cell_type": "code",
   "execution_count": 1,
   "metadata": {},
   "outputs": [],
   "source": [
    "# Загрузка бибилиотек\n",
    "\n",
    "import pandas as pd\n",
    "# Разделить данные на тестовую и обучающую выборки\n",
    "from sklearn.model_selection import train_test_split\n",
    "# импорт логистической регрессии\n",
    "from sklearn.linear_model import LogisticRegression\n",
    "# метод опорных векторов\n",
    "from sklearn.svm import LinearSVC\n"
   ]
  },
  {
   "cell_type": "markdown",
   "metadata": {},
   "source": [
    "Структура данных:  \n",
    "1. age: возраст, непрерывный.\n",
    "- workclass: рабочий класс, источник дохода\n",
    "- fnlwgt: окончательный вес, непрерывный\n",
    "- education: образование,\n",
    "- education-num: кол-во образований, непрерывный\n",
    "- marital-status: семейное положение\n",
    "- occupation: род деятельности\n",
    "- relationship: отношения\n",
    "- race: расса\n",
    "- sex: пол\n",
    "- capital-gain: доходы, непрерывный\n",
    "- capital-loss: расходы, непрерывный\n",
    "- hours-per-week: занятость час/неделю, , непрерывный\n",
    "- native-country: страна происхождения, \n",
    "- class: уровень дохода"
   ]
  },
  {
   "cell_type": "code",
   "execution_count": 2,
   "metadata": {},
   "outputs": [],
   "source": [
    "#Инициилизация констант\n",
    "#Cловарь для преобразования пола\n",
    "GENDER_C = {'Female':0, 'Male':1}\n",
    "#Cловарь для преобразования уровня дохода\n",
    "INCOME_C = {'<=50K':0, '>50K':1}\n",
    "#Cловарь с количественными атрибутами \n",
    "ATTR_CA_N = ['age', 'fnlwgt', 'educational-num', 'capital-gain', 'capital-loss', 'hours-per-week']\n",
    "#Cловарь с качественнымии атрибутами \n",
    "ATTR_CA_C = ['workclass', 'marital-status', 'occupation', 'relationship', 'race', 'native-country']\n",
    "#Загружаем исходне данные\n",
    "df = pd.read_csv('adult.csv', na_values = '?')\n",
    "\n",
    "#Определяем независимые переменные\n",
    "X = pd.get_dummies(df.iloc[:,:-1], columns = ATTR_CA_C ) #альтернативный способ X = df[df.columns[:-1]]\n",
    "X['gender_num'] = X['gender'].apply(lambda val: GENDER_C[val])\n",
    "X.drop(['gender','education'], axis = 1, inplace = True)\n",
    "\n",
    "#Определяем зависимую переменную\n",
    "y = df.iloc[:,-1].apply(lambda val: INCOME_C[val])  #альтернативный способ y = df[df.columns[-1]]\n",
    "\n",
    "#Разделение переменных на тренировочную и тестовую\n",
    "X_train, X_test, y_train, y_test = train_test_split(X, y, test_size = 0.3)"
   ]
  },
  {
   "cell_type": "code",
   "execution_count": 3,
   "metadata": {},
   "outputs": [
    {
     "data": {
      "text/plain": [
       "0.8002456834777861"
      ]
     },
     "execution_count": 3,
     "metadata": {},
     "output_type": "execute_result"
    }
   ],
   "source": [
    "#создание модели ЛОГИСТИЧЕСКОЙ РЕГРЕССИИ\n",
    "model_lr = LogisticRegression()\n",
    "#обучение модели\n",
    "model_lr.fit( X_train, y_train )\n",
    "# Оценка\n",
    "model_lr.score( X_test, y_test )"
   ]
  },
  {
   "cell_type": "code",
   "execution_count": 6,
   "metadata": {},
   "outputs": [
    {
     "name": "stderr",
     "output_type": "stream",
     "text": [
      "C:\\ProgramData\\Anaconda3\\lib\\site-packages\\sklearn\\svm\\_base.py:976: ConvergenceWarning: Liblinear failed to converge, increase the number of iterations.\n",
      "  warnings.warn(\"Liblinear failed to converge, increase \"\n"
     ]
    },
    {
     "data": {
      "text/plain": [
       "0.7901453627243568"
      ]
     },
     "execution_count": 6,
     "metadata": {},
     "output_type": "execute_result"
    }
   ],
   "source": [
    "#Создание модели ОПРНЫХ ВЕКТОРОВ\n",
    "model_svm = LinearSVC()\n",
    "#обучение модели\n",
    "model_svm.fit( X_train, y_train )\n",
    "# Оценка\n",
    "model_svm.score( X_test, y_test )"
   ]
  }
 ],
 "metadata": {
  "kernelspec": {
   "display_name": "Python 3",
   "language": "python",
   "name": "python3"
  },
  "language_info": {
   "codemirror_mode": {
    "name": "ipython",
    "version": 3
   },
   "file_extension": ".py",
   "mimetype": "text/x-python",
   "name": "python",
   "nbconvert_exporter": "python",
   "pygments_lexer": "ipython3",
   "version": "3.8.3"
  }
 },
 "nbformat": 4,
 "nbformat_minor": 4
}
