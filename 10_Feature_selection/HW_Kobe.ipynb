{
 "cells": [
  {
   "cell_type": "markdown",
   "metadata": {},
   "source": [
    "# Домашняя работа"
   ]
  },
  {
   "cell_type": "markdown",
   "metadata": {
    "id": "QthCIdDVPPKf"
   },
   "source": [
    "**Задания:**\n",
    "\n",
    "1. Провести анализ данных. Много хороших примеров анализа можно посмотреть здесь https://www.kaggle.com/c/kobe-bryant-shot-selection/kernels\n",
    "2. Подготовить фичи для обучения модели - нагенерить признаков, обработать пропущенные значения, проверить на возможные выбросы, обработать категориальные признаки и др.\n",
    "3. Обучить линейную модель, Lasso, Ridge (с встроеной регуляризацией) на тех же признаках - построить сравнительную таблицу или график коэффициентов, сделать заключения о том, как меняется величина коэффициентов, какие зануляются. \n",
    "\n",
    "**Дополнительно**\n",
    "4. Сравнить результаты на тестовом наборе данных - сделать train_test_split в самом начале, подготовить переменные, сравнить результаты работы классификаторов (те же 3), метрика ROC AUC\n",
    "5. Построить PCA на подготовленных признаках, посмотреть, какие компоненты составляют наибольшую часть дисперсии целевой переменной"
   ]
  },
  {
   "cell_type": "code",
   "execution_count": 1,
   "metadata": {
    "id": "zqHdTz2wPPKW"
   },
   "outputs": [],
   "source": [
    "import pandas as pd\n",
    "import numpy as np\n",
    "import matplotlib.pyplot as plt\n",
    "from sklearn.preprocessing import LabelEncoder\n",
    "%matplotlib inline"
   ]
  },
  {
   "cell_type": "markdown",
   "metadata": {
    "id": "lvM0J0AaPPKc"
   },
   "source": [
    "## Kobe Bryant  shot selection"
   ]
  },
  {
   "cell_type": "markdown",
   "metadata": {
    "id": "hVjPZ_ukPPKc"
   },
   "source": [
    "Cсылка на соревнование: https://www.kaggle.com/c/kobe-bryant-shot-selection"
   ]
  },
  {
   "cell_type": "markdown",
   "metadata": {
    "id": "qgn5s7NFPPKd"
   },
   "source": [
    "Goal: Fun and education"
   ]
  },
  {
   "cell_type": "markdown",
   "metadata": {
    "id": "4bIkh2ACPPKd"
   },
   "source": [
    "Using 20 years of data on Kobe's swishes and misses, can you predict which shots will find the bottom of the net? This competition is well suited for practicing classification basics, feature engineering, and time series analysis. Practice got Kobe an eight-figure contract and 5 championship rings. What will it get you?"
   ]
  },
  {
   "cell_type": "markdown",
   "metadata": {
    "id": "JYgEsdafPPKd"
   },
   "source": [
    "This data contains the location and circumstances of every field goal attempted by Kobe Bryant took during his 20-year career. Your task is to predict whether the basket went in (shot_made_flag).\n",
    "\n",
    "We have removed 5000 of the shot_made_flags (represented as missing values in the csv file). These are the test set shots for which you must submit a prediction. You are provided a sample submission file with the correct shot_ids needed for a valid prediction."
   ]
  },
  {
   "cell_type": "markdown",
   "metadata": {},
   "source": [
    "#### 1. Провести анализ данных. "
   ]
  },
  {
   "cell_type": "code",
   "execution_count": 2,
   "metadata": {
    "id": "LVq90rI-PPKe"
   },
   "outputs": [
    {
     "name": "stdout",
     "output_type": "stream",
     "text": [
      "Количество строк было: 30697, стало после обработки: 25697.\n"
     ]
    }
   ],
   "source": [
    "#Загружаем исходные данные\n",
    "data = pd.read_csv('Kobe.csv')\n",
    "_ = data.action_type.count()\n",
    "\n",
    "#В задании на Kaggle искуственно очистили результат 5000 бросков ('shot_made_flag'), удаляем соответствующие строки.\n",
    "data = data.dropna()\n",
    "print(f'Количество строк было: {_}, стало после обработки: {data.action_type.count()}.')"
   ]
  },
  {
   "cell_type": "code",
   "execution_count": 3,
   "metadata": {},
   "outputs": [],
   "source": [
    "# Обработка категориальнай полей\n",
    "# Удаляем:\n",
    "# 'team_name'='Los Angeles Lakers',\n",
    "# 'matchup' повторяется в 'opponent',\n",
    "# 'combined_shot_type' повторяется в 'action_type'\n",
    "# идентификаторы не нужны: 'team_id', 'game_event_id', 'game_id', 'shot_id'\n",
    "lstDropFiled = ['team_name', 'matchup', 'combined_shot_type', 'team_id', 'game_event_id', 'game_id', 'shot_id']\n",
    "data.drop(lstDropFiled, axis=1, inplace = True)"
   ]
  },
  {
   "cell_type": "code",
   "execution_count": 4,
   "metadata": {
    "id": "S6q19ap7PPKe",
    "outputId": "54cc12f8-335a-40d1-c820-b3030b3129af",
    "scrolled": true
   },
   "outputs": [
    {
     "data": {
      "text/html": [
       "<div>\n",
       "<style scoped>\n",
       "    .dataframe tbody tr th:only-of-type {\n",
       "        vertical-align: middle;\n",
       "    }\n",
       "\n",
       "    .dataframe tbody tr th {\n",
       "        vertical-align: top;\n",
       "    }\n",
       "\n",
       "    .dataframe thead th {\n",
       "        text-align: right;\n",
       "    }\n",
       "</style>\n",
       "<table border=\"1\" class=\"dataframe\">\n",
       "  <thead>\n",
       "    <tr style=\"text-align: right;\">\n",
       "      <th></th>\n",
       "      <th>action_type</th>\n",
       "      <th>lat</th>\n",
       "      <th>loc_x</th>\n",
       "      <th>loc_y</th>\n",
       "      <th>lon</th>\n",
       "      <th>minutes_remaining</th>\n",
       "      <th>period</th>\n",
       "      <th>playoffs</th>\n",
       "      <th>season</th>\n",
       "      <th>seconds_remaining</th>\n",
       "      <th>shot_distance</th>\n",
       "      <th>shot_made_flag</th>\n",
       "      <th>shot_type</th>\n",
       "      <th>shot_zone_area</th>\n",
       "      <th>shot_zone_basic</th>\n",
       "      <th>shot_zone_range</th>\n",
       "      <th>game_date</th>\n",
       "      <th>opponent</th>\n",
       "    </tr>\n",
       "  </thead>\n",
       "  <tbody>\n",
       "    <tr>\n",
       "      <th>1</th>\n",
       "      <td>Jump Shot</td>\n",
       "      <td>34.0443</td>\n",
       "      <td>-157</td>\n",
       "      <td>0</td>\n",
       "      <td>-118.4268</td>\n",
       "      <td>10</td>\n",
       "      <td>1</td>\n",
       "      <td>0</td>\n",
       "      <td>2000-01</td>\n",
       "      <td>22</td>\n",
       "      <td>15</td>\n",
       "      <td>0.0</td>\n",
       "      <td>2PT Field Goal</td>\n",
       "      <td>Left Side(L)</td>\n",
       "      <td>Mid-Range</td>\n",
       "      <td>8-16 ft.</td>\n",
       "      <td>2000-10-31</td>\n",
       "      <td>POR</td>\n",
       "    </tr>\n",
       "    <tr>\n",
       "      <th>2</th>\n",
       "      <td>Jump Shot</td>\n",
       "      <td>33.9093</td>\n",
       "      <td>-101</td>\n",
       "      <td>135</td>\n",
       "      <td>-118.3708</td>\n",
       "      <td>7</td>\n",
       "      <td>1</td>\n",
       "      <td>0</td>\n",
       "      <td>2000-01</td>\n",
       "      <td>45</td>\n",
       "      <td>16</td>\n",
       "      <td>1.0</td>\n",
       "      <td>2PT Field Goal</td>\n",
       "      <td>Left Side Center(LC)</td>\n",
       "      <td>Mid-Range</td>\n",
       "      <td>16-24 ft.</td>\n",
       "      <td>2000-10-31</td>\n",
       "      <td>POR</td>\n",
       "    </tr>\n",
       "    <tr>\n",
       "      <th>3</th>\n",
       "      <td>Jump Shot</td>\n",
       "      <td>33.8693</td>\n",
       "      <td>138</td>\n",
       "      <td>175</td>\n",
       "      <td>-118.1318</td>\n",
       "      <td>6</td>\n",
       "      <td>1</td>\n",
       "      <td>0</td>\n",
       "      <td>2000-01</td>\n",
       "      <td>52</td>\n",
       "      <td>22</td>\n",
       "      <td>0.0</td>\n",
       "      <td>2PT Field Goal</td>\n",
       "      <td>Right Side Center(RC)</td>\n",
       "      <td>Mid-Range</td>\n",
       "      <td>16-24 ft.</td>\n",
       "      <td>2000-10-31</td>\n",
       "      <td>POR</td>\n",
       "    </tr>\n",
       "    <tr>\n",
       "      <th>4</th>\n",
       "      <td>Driving Dunk Shot</td>\n",
       "      <td>34.0443</td>\n",
       "      <td>0</td>\n",
       "      <td>0</td>\n",
       "      <td>-118.2698</td>\n",
       "      <td>6</td>\n",
       "      <td>2</td>\n",
       "      <td>0</td>\n",
       "      <td>2000-01</td>\n",
       "      <td>19</td>\n",
       "      <td>0</td>\n",
       "      <td>1.0</td>\n",
       "      <td>2PT Field Goal</td>\n",
       "      <td>Center(C)</td>\n",
       "      <td>Restricted Area</td>\n",
       "      <td>Less Than 8 ft.</td>\n",
       "      <td>2000-10-31</td>\n",
       "      <td>POR</td>\n",
       "    </tr>\n",
       "    <tr>\n",
       "      <th>5</th>\n",
       "      <td>Jump Shot</td>\n",
       "      <td>34.0553</td>\n",
       "      <td>-145</td>\n",
       "      <td>-11</td>\n",
       "      <td>-118.4148</td>\n",
       "      <td>9</td>\n",
       "      <td>3</td>\n",
       "      <td>0</td>\n",
       "      <td>2000-01</td>\n",
       "      <td>32</td>\n",
       "      <td>14</td>\n",
       "      <td>0.0</td>\n",
       "      <td>2PT Field Goal</td>\n",
       "      <td>Left Side(L)</td>\n",
       "      <td>Mid-Range</td>\n",
       "      <td>8-16 ft.</td>\n",
       "      <td>2000-10-31</td>\n",
       "      <td>POR</td>\n",
       "    </tr>\n",
       "  </tbody>\n",
       "</table>\n",
       "</div>"
      ],
      "text/plain": [
       "         action_type      lat  loc_x  loc_y       lon  minutes_remaining  \\\n",
       "1          Jump Shot  34.0443   -157      0 -118.4268                 10   \n",
       "2          Jump Shot  33.9093   -101    135 -118.3708                  7   \n",
       "3          Jump Shot  33.8693    138    175 -118.1318                  6   \n",
       "4  Driving Dunk Shot  34.0443      0      0 -118.2698                  6   \n",
       "5          Jump Shot  34.0553   -145    -11 -118.4148                  9   \n",
       "\n",
       "   period  playoffs   season  seconds_remaining  shot_distance  \\\n",
       "1       1         0  2000-01                 22             15   \n",
       "2       1         0  2000-01                 45             16   \n",
       "3       1         0  2000-01                 52             22   \n",
       "4       2         0  2000-01                 19              0   \n",
       "5       3         0  2000-01                 32             14   \n",
       "\n",
       "   shot_made_flag       shot_type         shot_zone_area  shot_zone_basic  \\\n",
       "1             0.0  2PT Field Goal           Left Side(L)        Mid-Range   \n",
       "2             1.0  2PT Field Goal   Left Side Center(LC)        Mid-Range   \n",
       "3             0.0  2PT Field Goal  Right Side Center(RC)        Mid-Range   \n",
       "4             1.0  2PT Field Goal              Center(C)  Restricted Area   \n",
       "5             0.0  2PT Field Goal           Left Side(L)        Mid-Range   \n",
       "\n",
       "   shot_zone_range   game_date opponent  \n",
       "1         8-16 ft.  2000-10-31      POR  \n",
       "2        16-24 ft.  2000-10-31      POR  \n",
       "3        16-24 ft.  2000-10-31      POR  \n",
       "4  Less Than 8 ft.  2000-10-31      POR  \n",
       "5         8-16 ft.  2000-10-31      POR  "
      ]
     },
     "execution_count": 4,
     "metadata": {},
     "output_type": "execute_result"
    }
   ],
   "source": [
    "data.head()"
   ]
  },
  {
   "cell_type": "markdown",
   "metadata": {},
   "source": [
    "#### 2. Подготовить фичи для обучения модели "
   ]
  },
  {
   "cell_type": "code",
   "execution_count": 5,
   "metadata": {},
   "outputs": [],
   "source": [
    "#Преобразование категориальных переменных\n",
    "\n",
    "#Зоны игры по удаленности от корзины\n",
    "dictShot_zone_range = { 'Back Court Shot':-1,\n",
    "                        'Less Than 8 ft.': 0,\n",
    "                        '8-16 ft.'       : 1,\n",
    "                        '16-24 ft.'      : 2,\n",
    "                        '24+ ft.'        : 3 }\n",
    "\n",
    "#Распределение методов обработки по категориальным полям\n",
    "data_trans = { 'action_type'    :'ohe', #Способ подбора, веса не присваивать\n",
    "               'season'         :'le',  #Сезоны идентифицируем\n",
    "               'shot_type'      :'ohe', #Способ броска, веса не присваивать\n",
    "               'shot_zone_area' :'ohe', #Зона броска, веса не присваивать\n",
    "               'shot_zone_basic':'ohe', #Основная зона броска, веса не присваивать\n",
    "               'game_date'      :'le',  #Дата игры\n",
    "               'opponent'       :'ohe' } #Протевник, веса не присваивать\n",
    "\n",
    "df = pd.DataFrame()\n",
    "\n",
    "#Кодирование категориальных переменных\n",
    "for key in data_trans.keys():\n",
    "    if data_trans[key] == 'ohe':\n",
    "        _ = pd.get_dummies(data[key], prefix=key, drop_first=False)\n",
    "        df = pd.concat([df, _], axis=1)\n",
    "    elif data_trans[key] == 'le':\n",
    "        le = LabelEncoder()\n",
    "        df[key] = le.fit_transform(data[key])\n",
    "\n",
    "df['shot_zone_range'] = data['shot_zone_range'].map(dictShot_zone_range)\n",
    "\n",
    "df = pd.concat([df, data.select_dtypes(exclude=['object'])], axis=1)"
   ]
  },
  {
   "cell_type": "code",
   "execution_count": 6,
   "metadata": {},
   "outputs": [],
   "source": [
    "#data.dtypes[data.dtypes == 'object'].index\n",
    "#data[ data.dtypes[data.dtypes == 'object'].index ]"
   ]
  },
  {
   "cell_type": "markdown",
   "metadata": {},
   "source": [
    "#### 3. Обучить линейную модель, Lasso, Ridge"
   ]
  },
  {
   "cell_type": "code",
   "execution_count": 7,
   "metadata": {
    "id": "mRhHolq9PPKf"
   },
   "outputs": [
    {
     "name": "stderr",
     "output_type": "stream",
     "text": [
      "D:\\Anakonda\\lib\\site-packages\\sklearn\\linear_model\\_logistic.py:762: ConvergenceWarning: lbfgs failed to converge (status=1):\n",
      "STOP: TOTAL NO. of ITERATIONS REACHED LIMIT.\n",
      "\n",
      "Increase the number of iterations (max_iter) or scale the data as shown in:\n",
      "    https://scikit-learn.org/stable/modules/preprocessing.html\n",
      "Please also refer to the documentation for alternative solver options:\n",
      "    https://scikit-learn.org/stable/modules/linear_model.html#logistic-regression\n",
      "  n_iter_i = _check_optimize_result(\n"
     ]
    },
    {
     "data": {
      "text/plain": [
       "RidgeCV(alphas=array([ 0.1,  1. , 10. ]))"
      ]
     },
     "execution_count": 7,
     "metadata": {},
     "output_type": "execute_result"
    }
   ],
   "source": [
    "from sklearn.linear_model import LogisticRegression\n",
    "from sklearn.linear_model import LassoCV\n",
    "from sklearn.linear_model import RidgeCV\n",
    "\n",
    "X = df.iloc[:, :-1]\n",
    "y = df.iloc[:, -1]\n",
    "\n",
    "lr = LogisticRegression()\n",
    "lr.fit(X, y)\n",
    "\n",
    "la = LassoCV()\n",
    "la.fit(X, y)\n",
    "\n",
    "ri = RidgeCV()\n",
    "ri.fit(X, y)\n"
   ]
  },
  {
   "cell_type": "code",
   "execution_count": 8,
   "metadata": {
    "scrolled": true
   },
   "outputs": [
    {
     "data": {
      "text/html": [
       "<div>\n",
       "<style scoped>\n",
       "    .dataframe tbody tr th:only-of-type {\n",
       "        vertical-align: middle;\n",
       "    }\n",
       "\n",
       "    .dataframe tbody tr th {\n",
       "        vertical-align: top;\n",
       "    }\n",
       "\n",
       "    .dataframe thead th {\n",
       "        text-align: right;\n",
       "    }\n",
       "</style>\n",
       "<table border=\"1\" class=\"dataframe\">\n",
       "  <thead>\n",
       "    <tr style=\"text-align: right;\">\n",
       "      <th></th>\n",
       "      <th>X</th>\n",
       "      <th>LogisticRegression</th>\n",
       "      <th>LassoCV</th>\n",
       "      <th>RidgeCV</th>\n",
       "    </tr>\n",
       "  </thead>\n",
       "  <tbody>\n",
       "    <tr>\n",
       "      <th>25</th>\n",
       "      <td>action_type_Jump Shot</td>\n",
       "      <td>-0.975026</td>\n",
       "      <td>-0.303042</td>\n",
       "      <td>-0.397858</td>\n",
       "    </tr>\n",
       "    <tr>\n",
       "      <th>26</th>\n",
       "      <td>action_type_Layup Shot</td>\n",
       "      <td>-0.415582</td>\n",
       "      <td>-0.223484</td>\n",
       "      <td>-0.338864</td>\n",
       "    </tr>\n",
       "    <tr>\n",
       "      <th>71</th>\n",
       "      <td>game_date</td>\n",
       "      <td>0.000647</td>\n",
       "      <td>-0.000037</td>\n",
       "      <td>0.000242</td>\n",
       "    </tr>\n",
       "    <tr>\n",
       "      <th>105</th>\n",
       "      <td>shot_zone_range</td>\n",
       "      <td>0.191879</td>\n",
       "      <td>0.012236</td>\n",
       "      <td>0.051510</td>\n",
       "    </tr>\n",
       "    <tr>\n",
       "      <th>107</th>\n",
       "      <td>loc_x</td>\n",
       "      <td>-0.000061</td>\n",
       "      <td>0.000040</td>\n",
       "      <td>-0.000063</td>\n",
       "    </tr>\n",
       "    <tr>\n",
       "      <th>108</th>\n",
       "      <td>loc_y</td>\n",
       "      <td>0.000266</td>\n",
       "      <td>0.000207</td>\n",
       "      <td>0.000009</td>\n",
       "    </tr>\n",
       "    <tr>\n",
       "      <th>110</th>\n",
       "      <td>minutes_remaining</td>\n",
       "      <td>0.015868</td>\n",
       "      <td>0.002480</td>\n",
       "      <td>0.003119</td>\n",
       "    </tr>\n",
       "    <tr>\n",
       "      <th>111</th>\n",
       "      <td>period</td>\n",
       "      <td>-0.257772</td>\n",
       "      <td>-0.006185</td>\n",
       "      <td>-0.011988</td>\n",
       "    </tr>\n",
       "    <tr>\n",
       "      <th>113</th>\n",
       "      <td>seconds_remaining</td>\n",
       "      <td>0.002465</td>\n",
       "      <td>0.000700</td>\n",
       "      <td>0.000736</td>\n",
       "    </tr>\n",
       "    <tr>\n",
       "      <th>114</th>\n",
       "      <td>shot_distance</td>\n",
       "      <td>-0.034109</td>\n",
       "      <td>-0.005193</td>\n",
       "      <td>-0.000061</td>\n",
       "    </tr>\n",
       "  </tbody>\n",
       "</table>\n",
       "</div>"
      ],
      "text/plain": [
       "                          X  LogisticRegression   LassoCV   RidgeCV\n",
       "25    action_type_Jump Shot           -0.975026 -0.303042 -0.397858\n",
       "26   action_type_Layup Shot           -0.415582 -0.223484 -0.338864\n",
       "71                game_date            0.000647 -0.000037  0.000242\n",
       "105         shot_zone_range            0.191879  0.012236  0.051510\n",
       "107                   loc_x           -0.000061  0.000040 -0.000063\n",
       "108                   loc_y            0.000266  0.000207  0.000009\n",
       "110       minutes_remaining            0.015868  0.002480  0.003119\n",
       "111                  period           -0.257772 -0.006185 -0.011988\n",
       "113       seconds_remaining            0.002465  0.000700  0.000736\n",
       "114           shot_distance           -0.034109 -0.005193 -0.000061"
      ]
     },
     "execution_count": 8,
     "metadata": {},
     "output_type": "execute_result"
    }
   ],
   "source": [
    "coef = pd.DataFrame({'X':                  X.columns,\n",
    "                     'LogisticRegression': lr.coef_[0],\n",
    "                     'LassoCV':            la.coef_,\n",
    "                     'RidgeCV':            ri.coef_}) \n",
    "\n",
    "coef[coef['LassoCV']!= 0]"
   ]
  },
  {
   "cell_type": "code",
   "execution_count": 9,
   "metadata": {
    "scrolled": false
   },
   "outputs": [
    {
     "data": {
      "image/png": "[encoded data removed]",
      "text/plain": [
       "<Figure size 936x432 with 1 Axes>"
      ]
     },
     "metadata": {
      "needs_background": "light"
     },
     "output_type": "display_data"
    }
   ],
   "source": [
    "#Построение графика коэффициентов\n",
    "from pylab import rcParams\n",
    "rcParams['figure.figsize'] = 13,6\n",
    "\n",
    "plt.plot(coef['LogisticRegression'], label = 'LogisticRegression')\n",
    "plt.plot(coef['LassoCV'], label = 'LassoCV')\n",
    "plt.plot(coef['RidgeCV'], label = 'RidgeCV')\n",
    "plt.legend( loc = 0 )\n",
    "plt.show()"
   ]
  },
  {
   "cell_type": "markdown",
   "metadata": {
    "id": "IcdHTiXxP5al"
   },
   "source": [
    "#### Вывод  \n",
    "Коэффициенты, которые оказывают не значительное влияние на результат классификации, по каждой из модели.  \n",
    "Важность регуляризации."
   ]
  },
  {
   "cell_type": "code",
   "execution_count": 10,
   "metadata": {},
   "outputs": [
    {
     "data": {
      "text/plain": [
       "[]"
      ]
     },
     "execution_count": 10,
     "metadata": {},
     "output_type": "execute_result"
    }
   ],
   "source": [
    "list(coef[coef['LogisticRegression'].abs() < 0.00001]['X'])"
   ]
  },
  {
   "cell_type": "code",
   "execution_count": 11,
   "metadata": {},
   "outputs": [
    {
     "data": {
      "text/plain": [
       "['lat', 'loc_y', 'lon']"
      ]
     },
     "execution_count": 11,
     "metadata": {},
     "output_type": "execute_result"
    }
   ],
   "source": [
    "list(coef[coef['RidgeCV'].abs() < 0.00001]['X'])"
   ]
  },
  {
   "cell_type": "code",
   "execution_count": 12,
   "metadata": {},
   "outputs": [
    {
     "data": {
      "text/plain": [
       "['action_type_Alley Oop Dunk Shot',\n",
       " 'action_type_Alley Oop Layup shot',\n",
       " 'action_type_Cutting Layup Shot',\n",
       " 'action_type_Driving Bank shot',\n",
       " 'action_type_Driving Dunk Shot',\n",
       " 'action_type_Driving Finger Roll Layup Shot',\n",
       " 'action_type_Driving Finger Roll Shot',\n",
       " 'action_type_Driving Floating Bank Jump Shot',\n",
       " 'action_type_Driving Floating Jump Shot',\n",
       " 'action_type_Driving Hook Shot',\n",
       " 'action_type_Driving Jump shot',\n",
       " 'action_type_Driving Layup Shot',\n",
       " 'action_type_Driving Reverse Layup Shot',\n",
       " 'action_type_Driving Slam Dunk Shot',\n",
       " 'action_type_Dunk Shot',\n",
       " 'action_type_Fadeaway Bank shot',\n",
       " 'action_type_Fadeaway Jump Shot',\n",
       " 'action_type_Finger Roll Layup Shot',\n",
       " 'action_type_Finger Roll Shot',\n",
       " 'action_type_Floating Jump shot',\n",
       " 'action_type_Follow Up Dunk Shot',\n",
       " 'action_type_Hook Bank Shot',\n",
       " 'action_type_Hook Shot',\n",
       " 'action_type_Jump Bank Shot',\n",
       " 'action_type_Jump Hook Shot',\n",
       " 'action_type_Pullup Bank shot',\n",
       " 'action_type_Pullup Jump shot',\n",
       " 'action_type_Putback Dunk Shot',\n",
       " 'action_type_Putback Layup Shot',\n",
       " 'action_type_Putback Slam Dunk Shot',\n",
       " 'action_type_Reverse Dunk Shot',\n",
       " 'action_type_Reverse Layup Shot',\n",
       " 'action_type_Reverse Slam Dunk Shot',\n",
       " 'action_type_Running Bank shot',\n",
       " 'action_type_Running Dunk Shot',\n",
       " 'action_type_Running Finger Roll Layup Shot',\n",
       " 'action_type_Running Finger Roll Shot',\n",
       " 'action_type_Running Hook Shot',\n",
       " 'action_type_Running Jump Shot',\n",
       " 'action_type_Running Layup Shot',\n",
       " 'action_type_Running Pull-Up Jump Shot',\n",
       " 'action_type_Running Reverse Layup Shot',\n",
       " 'action_type_Running Slam Dunk Shot',\n",
       " 'action_type_Running Tip Shot',\n",
       " 'action_type_Slam Dunk Shot',\n",
       " 'action_type_Step Back Jump shot',\n",
       " 'action_type_Tip Layup Shot',\n",
       " 'action_type_Tip Shot',\n",
       " 'action_type_Turnaround Bank shot',\n",
       " 'action_type_Turnaround Fadeaway shot',\n",
       " 'action_type_Turnaround Finger Roll Shot',\n",
       " 'action_type_Turnaround Hook Shot',\n",
       " 'action_type_Turnaround Jump Shot',\n",
       " 'season',\n",
       " 'shot_type_2PT Field Goal',\n",
       " 'shot_type_3PT Field Goal',\n",
       " 'shot_zone_area_Back Court(BC)',\n",
       " 'shot_zone_area_Center(C)',\n",
       " 'shot_zone_area_Left Side Center(LC)',\n",
       " 'shot_zone_area_Left Side(L)',\n",
       " 'shot_zone_area_Right Side Center(RC)',\n",
       " 'shot_zone_area_Right Side(R)',\n",
       " 'shot_zone_basic_Above the Break 3',\n",
       " 'shot_zone_basic_Backcourt',\n",
       " 'shot_zone_basic_In The Paint (Non-RA)',\n",
       " 'shot_zone_basic_Left Corner 3',\n",
       " 'shot_zone_basic_Mid-Range',\n",
       " 'shot_zone_basic_Restricted Area',\n",
       " 'shot_zone_basic_Right Corner 3',\n",
       " 'opponent_ATL',\n",
       " 'opponent_BKN',\n",
       " 'opponent_BOS',\n",
       " 'opponent_CHA',\n",
       " 'opponent_CHI',\n",
       " 'opponent_CLE',\n",
       " 'opponent_DAL',\n",
       " 'opponent_DEN',\n",
       " 'opponent_DET',\n",
       " 'opponent_GSW',\n",
       " 'opponent_HOU',\n",
       " 'opponent_IND',\n",
       " 'opponent_LAC',\n",
       " 'opponent_MEM',\n",
       " 'opponent_MIA',\n",
       " 'opponent_MIL',\n",
       " 'opponent_MIN',\n",
       " 'opponent_NJN',\n",
       " 'opponent_NOH',\n",
       " 'opponent_NOP',\n",
       " 'opponent_NYK',\n",
       " 'opponent_OKC',\n",
       " 'opponent_ORL',\n",
       " 'opponent_PHI',\n",
       " 'opponent_PHX',\n",
       " 'opponent_POR',\n",
       " 'opponent_SAC',\n",
       " 'opponent_SAS',\n",
       " 'opponent_SEA',\n",
       " 'opponent_TOR',\n",
       " 'opponent_UTA',\n",
       " 'opponent_VAN',\n",
       " 'opponent_WAS',\n",
       " 'lat',\n",
       " 'lon',\n",
       " 'playoffs']"
      ]
     },
     "execution_count": 12,
     "metadata": {},
     "output_type": "execute_result"
    }
   ],
   "source": [
    "list(coef[coef['LassoCV'] == 0]['X'])"
   ]
  },
  {
   "cell_type": "markdown",
   "metadata": {},
   "source": [
    "#### 4. Сравнить результаты на тестовом наборе данных"
   ]
  },
  {
   "cell_type": "code",
   "execution_count": 13,
   "metadata": {
    "scrolled": false
   },
   "outputs": [
    {
     "name": "stderr",
     "output_type": "stream",
     "text": [
      "D:\\Anakonda\\lib\\site-packages\\sklearn\\linear_model\\_logistic.py:762: ConvergenceWarning: lbfgs failed to converge (status=1):\n",
      "STOP: TOTAL NO. of ITERATIONS REACHED LIMIT.\n",
      "\n",
      "Increase the number of iterations (max_iter) or scale the data as shown in:\n",
      "    https://scikit-learn.org/stable/modules/preprocessing.html\n",
      "Please also refer to the documentation for alternative solver options:\n",
      "    https://scikit-learn.org/stable/modules/linear_model.html#logistic-regression\n",
      "  n_iter_i = _check_optimize_result(\n"
     ]
    },
    {
     "data": {
      "image/png": "[encoded data removed]",
      "text/plain": [
       "<Figure size 936x432 with 1 Axes>"
      ]
     },
     "metadata": {
      "needs_background": "light"
     },
     "output_type": "display_data"
    }
   ],
   "source": [
    "from sklearn.model_selection import train_test_split\n",
    "from sklearn.metrics import roc_curve\n",
    "\n",
    "#Разделение наблюдений на тренировочную и тестовую выборки\n",
    "X_train, X_test, y_train, y_test = train_test_split(X, y, random_state = 42, test_size = 0.3)\n",
    "\n",
    "#Обучение моделей на тренировочных данных\n",
    "lr.fit(X_train, y_train)\n",
    "la.fit(X_train, y_train)\n",
    "ri.fit(X_train, y_train)\n",
    "\n",
    "#Определение параметров для построения roc-кривой\n",
    "fpr, tpr, thres    = roc_curve( y_test, lr.predict(X_test) )\n",
    "fpr2, tpr2, thres2 = roc_curve( y_test, la.predict(X_test) )\n",
    "fpr3, tpr3, thres3 = roc_curve( y_test, ri.predict(X_test) )\n",
    "\n",
    "plt.plot( fpr,  tpr,  label = 'LogisticRegression' )\n",
    "plt.plot( fpr2, tpr2, label = 'LassoCV' )\n",
    "plt.plot( fpr3, tpr3, label = 'RidgeCV' )\n",
    "\n",
    "plt.xlabel('False Positive Rate')\n",
    "plt.ylabel('True Positive Rate')\n",
    "\n",
    "plt.legend( loc = 0 )\n",
    "plt.show()"
   ]
  },
  {
   "cell_type": "markdown",
   "metadata": {},
   "source": [
    "#### 5. Построить PCA"
   ]
  },
  {
   "cell_type": "code",
   "execution_count": 14,
   "metadata": {},
   "outputs": [
    {
     "data": {
      "text/plain": [
       "[(2.158906438953778e-06, 0.8941934005955772),\n",
       " (4.523933024902624e-07, 0.06342163972215907),\n",
       " (-9.489268981679104e-07, 0.04054534750874593),\n",
       " (-1.8112315176214256e-07, 0.0016006441218449487),\n",
       " (4.954725570340732e-06, 0.00015427218381214094),\n",
       " (-4.622802176298939e-06, 6.19787271275903e-05),\n",
       " (3.1375685910196862e-06, 6.917315485090318e-06),\n",
       " (-1.596901943225599e-07, 2.548891245789366e-06),\n",
       " (-4.6807586958587415e-07, 1.393350802365935e-06),\n",
       " (-1.0549660463478243e-06, 1.3103484254066298e-06),\n",
       " (-2.2486752156415755e-06, 9.726662754545947e-07),\n",
       " (4.6784596523282164e-05, 7.276589106627913e-07),\n",
       " (-7.993159543516835e-06, 5.95255852477763e-07),\n",
       " (-3.3173247082510625e-06, 5.046758247243642e-07),\n",
       " (8.058334339468796e-06, 4.7447883103035956e-07),\n",
       " (-1.9810230992678058e-06, 3.8194444615883967e-07),\n",
       " (-4.406625292890596e-05, 3.3557832998601503e-07),\n",
       " (-2.2195006798658122e-06, 3.18988473651511e-07),\n",
       " (1.1153107267010183e-06, 3.000855848743066e-07),\n",
       " (-8.600822995945518e-06, 2.8267853091222436e-07),\n",
       " (7.150105434654263e-07, 2.766684777810403e-07),\n",
       " (-1.1370248517027102e-07, 2.650433103033957e-07),\n",
       " (-4.908989408276986e-07, 2.565269985373146e-07)]"
      ]
     },
     "execution_count": 14,
     "metadata": {},
     "output_type": "execute_result"
    }
   ],
   "source": [
    "from sklearn.decomposition import PCA\n",
    "pcaX = PCA( n_components = round(len(X.columns)/5) )\n",
    "X_pca = pcaX.fit_transform(X)\n",
    "\n",
    "list(zip(pcaX.components_[0], pcaX.explained_variance_ratio_))"
   ]
  }
 ],
 "metadata": {
  "colab": {
   "name": "HW_Kobe.ipynb",
   "provenance": []
  },
  "kernelspec": {
   "display_name": "Python 3",
   "language": "python",
   "name": "python3"
  },
  "language_info": {
   "codemirror_mode": {
    "name": "ipython",
    "version": 3
   },
   "file_extension": ".py",
   "mimetype": "text/x-python",
   "name": "python",
   "nbconvert_exporter": "python",
   "pygments_lexer": "ipython3",
   "version": "3.8.3"
  }
 },
 "nbformat": 4,
 "nbformat_minor": 1
}
