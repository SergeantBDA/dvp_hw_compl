{
 "cells": [
  {
   "cell_type": "markdown",
   "metadata": {},
   "source": [
    "# Домашняя работа\n",
    "Взять boston house-prices datase (sklearn.datasets.load_boston). Возмите 7 любых  регрессоров (попробовать разные алгоритмы, поподбирать параметры, вывести итоговое качество)."
   ]
  },
  {
   "cell_type": "code",
   "execution_count": 1,
   "metadata": {},
   "outputs": [],
   "source": [
    "import pandas as pd\n",
    "import matplotlib.pyplot as plt\n",
    "from sklearn.datasets import load_boston\n",
    "from scipy.stats import uniform #"
   ]
  },
  {
   "cell_type": "code",
   "execution_count": 2,
   "metadata": {},
   "outputs": [],
   "source": [
    "boston = load_boston()\n",
    "#Описание атрибутов датасета\n",
    "DESCR = {'CRIM':'Криминальный уровень преступности на душу населения',\n",
    "         'ZN':'Доля жилой земли, зонированной для участков площадью более 25 000 кв. футов.',\n",
    "         'INDUS':'Доля акров неторгового бизнеса',\n",
    "         'CHAS':'Фиктивная переменная (= 1, если тракт ограничивает реку; 0 в противном случае)',\n",
    "         'NOX':'Концентрация оксидов азота NOX (частей на 10 млн.)',\n",
    "         'RM':'Cреднее количество комнат в жилом помещении',\n",
    "         'AGE':'Доля занятых квартир в домах построенных до 1940 года',\n",
    "         'DIS':'Взвешенные расстояния до пяти Бостонских центров занятости',\n",
    "         'RAD':'Индекс доступности радиальных магистралей',\n",
    "         'TAX':'Cтавка налога на недвижимость с полной стоимостью за 10 000 долларов США',\n",
    "         'PTRATIO':'Cоотношение учащихся и учителей',\n",
    "         'B':'1000(Bk - 0.63)^2, где Bk-доля чернокожих',\n",
    "         'LSTAT':'% населения с низким статусом',\n",
    "         'MEDV':'Медианная стоимость домов, занятых владельцами, в $1000'\n",
    "         }"
   ]
  },
  {
   "cell_type": "code",
   "execution_count": 3,
   "metadata": {},
   "outputs": [
    {
     "name": "stdout",
     "output_type": "stream",
     "text": [
      "<class 'pandas.core.frame.DataFrame'>\n",
      "RangeIndex: 506 entries, 0 to 505\n",
      "Data columns (total 14 columns):\n",
      " #   Column   Non-Null Count  Dtype  \n",
      "---  ------   --------------  -----  \n",
      " 0   CRIM     506 non-null    float64\n",
      " 1   ZN       506 non-null    float64\n",
      " 2   INDUS    506 non-null    float64\n",
      " 3   CHAS     506 non-null    float64\n",
      " 4   NOX      506 non-null    float64\n",
      " 5   RM       506 non-null    float64\n",
      " 6   AGE      506 non-null    float64\n",
      " 7   DIS      506 non-null    float64\n",
      " 8   RAD      506 non-null    float64\n",
      " 9   TAX      506 non-null    float64\n",
      " 10  PTRATIO  506 non-null    float64\n",
      " 11  B        506 non-null    float64\n",
      " 12  LSTAT    506 non-null    float64\n",
      " 13  MEDV     506 non-null    float64\n",
      "dtypes: float64(14)\n",
      "memory usage: 55.5 KB\n"
     ]
    }
   ],
   "source": [
    "#Общая информация по датасету\n",
    "data_boston = pd.concat([pd.DataFrame(boston.data, columns = boston.feature_names), \n",
    "                         pd.DataFrame({'MEDV':boston.target})], axis = 1)\n",
    "data_boston.info()"
   ]
  },
  {
   "cell_type": "code",
   "execution_count": 4,
   "metadata": {},
   "outputs": [],
   "source": [
    "# 7 Регрессоров для опробации\n",
    "models = []\n",
    "#1\n",
    "from sklearn.tree import DecisionTreeRegressor #Дерево решений\n",
    "models.append({'name'  : \"DTR\", \n",
    "               \"model\" : DecisionTreeRegressor(), \n",
    "               \"params\": {\"criterion\": [\"mse\", \"friedman_mse\", \"mae\", \"poisson\"],\n",
    "                          \"splitter\" : [\"best\", \"random\"],\n",
    "                          \"max_depth\": [1,3,5,7,9,11]}})\n",
    "#2\n",
    "from sklearn.ensemble import RandomForestRegressor #Случайный лес\n",
    "models.append({'name'  : \"RFR\", \n",
    "               \"model\" : RandomForestRegressor(), \n",
    "               \"params\": {\"n_estimators\": [10,25,50,100,150,200],\n",
    "                          \"criterion\"   : [\"mse\", \"mae\"],\n",
    "                          \"max_depth\"   : [1,3,5,7,9,11]}})\n",
    "#3\n",
    "from sklearn.neighbors import KNeighborsRegressor #К-ближайших соседей\n",
    "models.append({\"name\"  : \"KNR\",\n",
    "               \"model\" : KNeighborsRegressor(),\n",
    "               \"params\": {\"n_neighbors\": list(range(1,30)),\n",
    "                          \"weights\"    : [\"uniform\", \"distance\"],\n",
    "                          \"p\"          : [1,2,3]}})\n",
    "#4\n",
    "from sklearn.svm import LinearSVR #Линейный метод опртных векторов\n",
    "models.append({\"name\"  : \"LSVR\",\n",
    "               \"model\" : LinearSVR(),\n",
    "               \"params\": {'C':[0.1, 0.2, 0.3, 0.5, 0.7, 1],\n",
    "                          \"loss\": [\"epsilon_insensitive\", \"squared_epsilon_insensitive\"],\n",
    "                          \"dual\": [True, False]}})\n",
    "#5\n",
    "from sklearn.linear_model import SGDRegressor #\n",
    "models.append({\"name\"  : \"SGDR\",\n",
    "               \"model\" : SGDRegressor(),\n",
    "               \"params\": {\"loss\"   : [\"squared_loss\", \"huber\", \"epsilon_insensitive\", \"squared_epsilon_insensitive\"],\n",
    "                          \"penalty\": [\"l2\", \"l1\", \"elasticnet\"],\n",
    "                          \"alpha\"  : uniform(loc=0, scale=3)}})\n",
    "#6\n",
    "from sklearn.linear_model import Ridge #\n",
    "models.append({\"name\" : \"Ridge\",\n",
    "              \"model\" : Ridge(), \n",
    "              \"params\": {\"alpha\" : uniform(loc=0, scale=3), \n",
    "                         \"solver\": [\"svd\", \"cholesky\", \"lsqr\", \"sparse_cg\", \"sag\", \"saga\"]}})\n",
    "#7\n",
    "from sklearn.neural_network import MLPRegressor #Нейронная сеть\n",
    "models.append({\"name\"  : \"MLPR\",\n",
    "               \"model\" : MLPRegressor(),\n",
    "               \"params\": {\"activation\": [\"identity\", \"logistic\", \"tanh\", \"relu\"],\n",
    "                          \"solver\"    : [\"lbfgs\", \"sgd\", \"adam\"],\n",
    "                          \"alpha\" : uniform(loc=0, scale=3)}})"
   ]
  },
  {
   "cell_type": "code",
   "execution_count": 6,
   "metadata": {},
   "outputs": [],
   "source": [
    "import warnings\n",
    "warnings.filterwarnings('ignore')\n",
    "\n",
    "from sklearn.model_selection import train_test_split\n",
    "from sklearn.model_selection import RandomizedSearchCV #Используется для поббора оптимальных параметров модели\n",
    "\n",
    "X_train, X_test, y_train, y_test = train_test_split( data_boston.iloc[:,:-1], \n",
    "                                                     data_boston.iloc[:,-1], \n",
    "                                                     test_size=0.3, \n",
    "                                                     random_state = 42 )\n",
    "\n",
    "result = []\n",
    "for item in  models:\n",
    "    result.append(( item[\"name\"], RandomizedSearchCV(item[\"model\"], item[\"params\"]).fit(X_train, y_train) ))"
   ]
  },
  {
   "cell_type": "code",
   "execution_count": 7,
   "metadata": {},
   "outputs": [
    {
     "name": "stdout",
     "output_type": "stream",
     "text": [
      "DTR 0.7250205052330319 {'splitter': 'random', 'max_depth': 9, 'criterion': 'mae'}\n",
      "RFR 0.8096000749857378 {'n_estimators': 100, 'max_depth': 9, 'criterion': 'mse'}\n",
      "KNR 0.5029705248176051 {'weights': 'uniform', 'p': 1, 'n_neighbors': 6}\n",
      "LSVR 0.6743331619735907 {'loss': 'squared_epsilon_insensitive', 'dual': False, 'C': 0.2}\n",
      "SGDR -2.322185602566152 {'alpha': 1.333412809036234, 'loss': 'huber', 'penalty': 'l1'}\n",
      "Ridge 0.6879694604793952 {'alpha': 0.022780817188248426, 'solver': 'svd'}\n",
      "MLPR 0.6125438211072944 {'activation': 'relu', 'alpha': 1.864734248053018, 'solver': 'lbfgs'}\n"
     ]
    }
   ],
   "source": [
    "#Итоговое качество\n",
    "for item in result:\n",
    "    print(item[0], item[1].best_score_, item[1].best_params_)"
   ]
  }
 ],
 "metadata": {
  "kernelspec": {
   "display_name": "Python 3",
   "language": "python",
   "name": "python3"
  },
  "language_info": {
   "codemirror_mode": {
    "name": "ipython",
    "version": 3
   },
   "file_extension": ".py",
   "mimetype": "text/x-python",
   "name": "python",
   "nbconvert_exporter": "python",
   "pygments_lexer": "ipython3",
   "version": "3.8.3"
  }
 },
 "nbformat": 4,
 "nbformat_minor": 4
}
