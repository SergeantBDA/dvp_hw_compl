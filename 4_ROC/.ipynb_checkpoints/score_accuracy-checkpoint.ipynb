{
 "cells": [
  {
   "cell_type": "markdown",
   "metadata": {},
   "source": [
    "##### Домашняя работа \"Оценка точности модели, переобучение, регуляризация\"  \n",
    "Преподаватель: Алексей Миронов, Наталья Баданина, Дарья Максимова\n",
    "1. Посчитать tpr и fpr в ноутбуке к лекции. Убедиться, что график ROC AUC получается таким же, как и штатными средствами.\n",
    "- Потроить график Precision - Recall на этих же данных."
   ]
  },
  {
   "cell_type": "markdown",
   "metadata": {},
   "source": [
    "##### Решение  "
   ]
  },
  {
   "cell_type": "code",
   "execution_count": 1,
   "metadata": {},
   "outputs": [],
   "source": [
    "# Импорт библиотек\n",
    "import pandas as pd\n",
    "# Получение данных напрямую с сайта openml.org\n",
    "# https://habr.com/ru/company/plarium/blog/512332/\n",
    "from sklearn.datasets import fetch_openml\n",
    "# дополнительные библиотеки\n",
    "from sklearn import metrics, model_selection\n",
    "# посторение графиков\n",
    "import matplotlib.pyplot as plt \n",
    "# логистическая регрессия\n",
    "from sklearn.linear_model import LogisticRegression"
   ]
  },
  {
   "cell_type": "code",
   "execution_count": 2,
   "metadata": {},
   "outputs": [],
   "source": [
    "# Для решения ДЗ применяем датасет вин сopenml.org\n",
    "X,y = fetch_openml(\"wine\", version=1, as_frame=True, return_X_y=True)\n",
    "\n",
    "# Преобразуем зависимую переменную из ['1', '2', '3'] в [1, 0]\n",
    "y_int = y.astype('int')\n",
    "y_int[(y_int > 1)] = 0\n",
    "\n",
    "X_train, X_test, y_train, y_test = model_selection.train_test_split(X.iloc[:, :1], \n",
    "                                                                    y_int, \n",
    "                                                                    test_size = 0.5, \n",
    "                                                                    random_state=0)\n",
    "\n",
    "# Создаем модель\n",
    "model1 = LogisticRegression()\n",
    "# Обучаем модель\n",
    "model1.fit(X_train, y_train)\n",
    "# Формируем предсказание\n",
    "predictions = model1.predict_proba( X_test.iloc[:, :1] )"
   ]
  },
  {
   "cell_type": "code",
   "execution_count": 3,
   "metadata": {},
   "outputs": [],
   "source": [
    "# Функция для расчета значений true positive (tp), true negative (tn), fp, fn\n",
    "# actual_ - целевые значения, probability_pred - веростность предсказания целевых значений\n",
    "# cutoffs - допустимая вероятность отнесения к позитивному целевому значению\n",
    "def coeff_score_accuracy(actual, probability_pred, cutoffs):\n",
    "    ret = {'tp':0, 'tn':0, 'fp':0, 'fn':0}\n",
    "    for act, probab in zip(actual, probability_pred):\n",
    "        \n",
    "        if probab > cutoffs:\n",
    "            pre = 1\n",
    "        else:\n",
    "            pre = 0\n",
    "            \n",
    "        if (act) and (pre):\n",
    "            ret['tp'] += 1\n",
    "        elif not(act) and not(pre):\n",
    "            ret['tn'] += 1\n",
    "        elif (act) and not(pre):\n",
    "            ret['fn'] += 1\n",
    "        elif not(act) and pre:\n",
    "            ret['fp'] += 1\n",
    "            \n",
    "    return ret\n",
    "\n",
    "# Получение accuracy\n",
    "def accuracy(dict_tk):\n",
    "    return (dict_tk['tp'] + dict_tk['tn'])/(len(dict_tk)) \n",
    "\n",
    "#Получение precision\n",
    "def precision( dict_tk ):\n",
    "    try:\n",
    "        ret = dict_tk['tp'] / (dict_tk['tp'] + dict_tk['fp'])\n",
    "    except ZeroDivisionError:\n",
    "        ret = 1\n",
    "    return ret \n",
    "\n",
    "#Чувствительность (Sensitivity) — доля истинно положительных случаев\n",
    "def recall( dict_tk ):\n",
    "    try:\n",
    "        ret = dict_tk['tp'] / (dict_tk['tp'] + dict_tk['fn'])\n",
    "    except ZeroDivisionError:\n",
    "        ret = 0\n",
    "    return ret \n",
    "\n",
    "sensitivity = recall\n",
    "\n",
    "#Специфичность (Specificity) — доля истинно отрицательных случаев, которые были правильно идентифицированы моделью\n",
    "def specificity( dict_tk ):\n",
    "    try:\n",
    "        ret = dict_tk['tn'] / ( dict_tk['tn'] + dict_tk['fp'] )\n",
    "    except ZeroDivisionError:\n",
    "        ret = 0\n",
    "    return ret \n",
    "\n",
    "#Формирование точек ROC-кривой зависомость y(sensitivity) от x (1 - specificity) \n",
    "def roc_value(actual, probability_pred, count):\n",
    "    val = {}\n",
    "    step = 0\n",
    "    sq_step = 0\n",
    "    for idx in range(count + 1):\n",
    "        dict_coeff = coeff_score_accuracy(actual, probability_pred, step)\n",
    "        x =  1 - specificity( dict_coeff )\n",
    "        y =  sensitivity( dict_coeff )\n",
    "        y_pre = precision( dict_coeff )\n",
    "        if idx == 0:\n",
    "            sq_step = 0\n",
    "        else:\n",
    "            sq_step = (val[idx-1][1] - x)*y\n",
    "            \n",
    "        val[idx] = [step, x, y, y_pre, sq_step]\n",
    "        step += 1/count\n",
    "    return val"
   ]
  },
  {
   "cell_type": "code",
   "execution_count": 4,
   "metadata": {},
   "outputs": [
    {
     "data": {
      "image/png": "[encoded data removed]",
      "text/plain": [
       "<Figure size 432x288 with 1 Axes>"
      ]
     },
     "metadata": {
      "needs_background": "light"
     },
     "output_type": "display_data"
    }
   ],
   "source": [
    "hop = 15\n",
    "rez_manual = roc_value(y_test, predictions[:,1], hop) \n",
    "rez_manual_df = pd.DataFrame.from_dict(rez_manual).T\n",
    "rez_manual_df.columns = ['step', 'x', 'y', 'y_pre', 'square_step']\n",
    "rez_manual_df_square  = rez_manual_df['square_step'].sum()\n",
    "\n",
    "metrics.plot_roc_curve(model1, X_test.iloc[:, :1], y_test)\n",
    "\n",
    "plt.plot(rez_manual_df['x'], rez_manual_df['y'])\n",
    "\n",
    "plt.title(f'Совмещение графиков (ручной AUC = {rez_manual_df_square} и штатный sklearn)', fontsize = 10)\n",
    "\n",
    "plt.show()"
   ]
  },
  {
   "cell_type": "code",
   "execution_count": 5,
   "metadata": {
    "scrolled": false
   },
   "outputs": [
    {
     "data": {
      "text/plain": [
       "Text(0, 0.5, 'Precision')"
      ]
     },
     "execution_count": 5,
     "metadata": {},
     "output_type": "execute_result"
    },
    {
     "data": {
      "image/png": "[encoded data removed]",
      "text/plain": [
       "<Figure size 432x288 with 1 Axes>"
      ]
     },
     "metadata": {
      "needs_background": "light"
     },
     "output_type": "display_data"
    }
   ],
   "source": [
    "plt.title(f'График Precision - Recall', fontsize = 12)\n",
    "\n",
    "plt.plot( rez_manual_df['x'], rez_manual_df['y_pre'] )\n",
    "plt.xlabel( 'Recall', fontsize = 10 )\n",
    "plt.ylabel( 'Precision', fontsize = 10 )"
   ]
  }
 ],
 "metadata": {
  "kernelspec": {
   "display_name": "Python 3",
   "language": "python",
   "name": "python3"
  },
  "language_info": {
   "codemirror_mode": {
    "name": "ipython",
    "version": 3
   },
   "file_extension": ".py",
   "mimetype": "text/x-python",
   "name": "python",
   "nbconvert_exporter": "python",
   "pygments_lexer": "ipython3",
   "version": "3.8.3"
  }
 },
 "nbformat": 4,
 "nbformat_minor": 4
}
